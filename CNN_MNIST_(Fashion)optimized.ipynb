{
  "nbformat": 4,
  "nbformat_minor": 0,
  "metadata": {
    "colab": {
      "provenance": [],
      "gpuType": "T4",
      "authorship_tag": "ABX9TyPJWUTBABIw/nee3NAZ3g5M",
      "include_colab_link": true
    },
    "kernelspec": {
      "name": "python3",
      "display_name": "Python 3"
    },
    "language_info": {
      "name": "python"
    },
    "accelerator": "GPU"
  },
  "cells": [
    {
      "cell_type": "markdown",
      "metadata": {
        "id": "view-in-github",
        "colab_type": "text"
      },
      "source": [
        "<a href=\"https://colab.research.google.com/github/nithinrk11/AIML_Files/blob/main/CNN_MNIST_(Fashion)optimized.ipynb\" target=\"_parent\"><img src=\"https://colab.research.google.com/assets/colab-badge.svg\" alt=\"Open In Colab\"/></a>"
      ]
    },
    {
      "cell_type": "markdown",
      "source": [
        "`Date:24-06-2023`"
      ],
      "metadata": {
        "id": "VSzMh8LqD1gC"
      }
    },
    {
      "cell_type": "markdown",
      "source": [
        "# Step-1: Loading libraries"
      ],
      "metadata": {
        "id": "cMExGb0GyC0S"
      }
    },
    {
      "cell_type": "code",
      "source": [
        "\n",
        "# CNN using tf.Keras - MIST Fashion Dataset\n",
        "#from __future__ import print_function\n",
        "import numpy as np\n",
        "import pandas as pd\n",
        "import matplotlib.pyplot as plt\n",
        "# Importing both TensorFlow and its high level API - Keras.\n",
        "import tensorflow as tf\n",
        "from tensorflow import keras\n",
        "# Setting the random seeds for repeatability\n",
        "tf.random.set_seed(1)\n",
        "np.random.seed(42)\n",
        "from tensorflow.keras.models import Sequential\n",
        "from tensorflow.keras.layers import Dense, Dropout,Conv2D, BatchNormalization,MaxPooling2D, Flatten\n",
        "from sklearn.metrics import roc_curve, auc\n",
        "from tensorflow.keras.optimizers import RMSprop"
      ],
      "metadata": {
        "id": "ZcPg3-jjyDgI"
      },
      "execution_count": null,
      "outputs": []
    },
    {
      "cell_type": "markdown",
      "source": [
        "## Step-2 Loading dataset"
      ],
      "metadata": {
        "id": "SwOFAPZmyzJx"
      }
    },
    {
      "cell_type": "code",
      "source": [
        "# Load the dataset from sklearn\n",
        "fashionDB = keras.datasets.fashion_mnist"
      ],
      "metadata": {
        "id": "6hxKP_o5y3se"
      },
      "execution_count": null,
      "outputs": []
    },
    {
      "cell_type": "markdown",
      "source": [
        "# Step-3 Data Preprocessing"
      ],
      "metadata": {
        "id": "eczdV7KDy4ZP"
      }
    },
    {
      "cell_type": "code",
      "source": [
        "# Setting the random seeds for repeatability\n",
        "(X_train, y_train),(X_test, y_test) = fashionDB.load_data()\n",
        "print(\"Shape of X_train: \", X_train.shape)\n",
        "# Shape of X_train:  (60000, 28, 28)\n",
        "print(\"Shape of X_test: \", X_test.shape)\n",
        "# Shape of X_test:  (10000, 28, 28)\n",
        "# We can view the dataset with matplotlib\n",
        "plt.imshow(X_train[1], cmap='binary')\n",
        "plt.show()"
      ],
      "metadata": {
        "colab": {
          "base_uri": "https://localhost:8080/",
          "height": 465
        },
        "id": "e-zIYKhGy8bg",
        "outputId": "a84f09ba-84f8-4506-f1e2-4ec6f180d4c3"
      },
      "execution_count": null,
      "outputs": [
        {
          "output_type": "stream",
          "name": "stdout",
          "text": [
            "Shape of X_train:  (60000, 28, 28)\n",
            "Shape of X_test:  (10000, 28, 28)\n"
          ]
        },
        {
          "output_type": "display_data",
          "data": {
            "text/plain": [
              "<Figure size 640x480 with 1 Axes>"
            ],
            "image/png": "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\n"
          },
          "metadata": {}
        }
      ]
    },
    {
      "cell_type": "markdown",
      "source": [
        "# Step-4   Feature Scaling- for Convolutional Neural Network"
      ],
      "metadata": {
        "id": "tzZIwcrTzBA9"
      }
    },
    {
      "cell_type": "code",
      "source": [
        "\n",
        "X_train = X_train.reshape((60000, 28, 28, 1))\n",
        "# divided with 255 to bring down the range to 0 to 1.\n",
        "X_train = X_train.astype('float32')/255\n",
        "# Similar operations are done to 10000 testing images.\n",
        "# Flattening 2D image to 1D representation.\n",
        "X_test = X_test.reshape((10000, 28, 28, 1))\n",
        "# Scale pixel values to range 0 to 1.\n",
        "X_test = X_test.astype('float32')/255"
      ],
      "metadata": {
        "id": "UkE_RKrPzD-G"
      },
      "execution_count": null,
      "outputs": []
    },
    {
      "cell_type": "markdown",
      "source": [
        "#Step 5 Deep Neural Net Architecture with 3 hidden layers"
      ],
      "metadata": {
        "id": "g2NTZhNczvCO"
      }
    },
    {
      "cell_type": "code",
      "source": [
        "# Create neural network using keras API\n",
        "# Sequential() does linear stacking of layers\n",
        "model = Sequential()\n",
        "model.add(Conv2D(32,(3,3), activation=\"relu\", input_shape=X_train.shape[1:]))\n",
        "model.add(MaxPooling2D((2,2)))\n",
        "model.add(BatchNormalization())\n",
        "model.add(Conv2D(64, (3,3), activation=\"relu\"))\n",
        "model.add(MaxPooling2D((2,2)))\n",
        "model.add(Conv2D(64, (3,3), activation=\"relu\"))\n",
        "# Here begins the fully connected part (DNN) of ConvNet\n",
        "model.add(Flatten())\n",
        "model.add(Dense(64, activation=\"relu\"))\n",
        "model.add(BatchNormalization())\n",
        "model.add(Dropout(0.1))\n",
        "model.add(Dense(32, activation=\"relu\"))\n",
        "model.add(Dense(10, activation='softmax'))\n",
        "model.summary()"
      ],
      "metadata": {
        "colab": {
          "base_uri": "https://localhost:8080/"
        },
        "id": "xCZQ0Xl0zy_5",
        "outputId": "b9e395d2-6ab4-4695-8091-09cbb265f553"
      },
      "execution_count": null,
      "outputs": [
        {
          "output_type": "stream",
          "name": "stdout",
          "text": [
            "Model: \"sequential_5\"\n",
            "_________________________________________________________________\n",
            " Layer (type)                Output Shape              Param #   \n",
            "=================================================================\n",
            " conv2d_9 (Conv2D)           (None, 26, 26, 32)        320       \n",
            "                                                                 \n",
            " max_pooling2d_4 (MaxPooling  (None, 13, 13, 32)       0         \n",
            " 2D)                                                             \n",
            "                                                                 \n",
            " batch_normalization_4 (Batc  (None, 13, 13, 32)       128       \n",
            " hNormalization)                                                 \n",
            "                                                                 \n",
            " conv2d_10 (Conv2D)          (None, 11, 11, 64)        18496     \n",
            "                                                                 \n",
            " max_pooling2d_5 (MaxPooling  (None, 5, 5, 64)         0         \n",
            " 2D)                                                             \n",
            "                                                                 \n",
            " conv2d_11 (Conv2D)          (None, 3, 3, 64)          36928     \n",
            "                                                                 \n",
            " flatten_2 (Flatten)         (None, 576)               0         \n",
            "                                                                 \n",
            " dense_6 (Dense)             (None, 64)                36928     \n",
            "                                                                 \n",
            " batch_normalization_5 (Batc  (None, 64)               256       \n",
            " hNormalization)                                                 \n",
            "                                                                 \n",
            " dropout_2 (Dropout)         (None, 64)                0         \n",
            "                                                                 \n",
            " dense_7 (Dense)             (None, 32)                2080      \n",
            "                                                                 \n",
            " dense_8 (Dense)             (None, 10)                330       \n",
            "                                                                 \n",
            "=================================================================\n",
            "Total params: 95,466\n",
            "Trainable params: 95,274\n",
            "Non-trainable params: 192\n",
            "_________________________________________________________________\n"
          ]
        }
      ]
    },
    {
      "cell_type": "markdown",
      "source": [
        "# Step-6 Model Compiling Training"
      ],
      "metadata": {
        "id": "9cows0dD2ebr"
      }
    },
    {
      "cell_type": "code",
      "source": [
        "# Compile the network model with relevant configurations.\n",
        "# loss, optimizer and metrics are three important configurations.\n",
        "model.compile(loss='categorical_crossentropy',\n",
        "              optimizer='adam',\n",
        "              metrics=['accuracy'])\n",
        "#optimizer=RMSprop() also can be used"
      ],
      "metadata": {
        "id": "dLv7eRDT2ho5"
      },
      "execution_count": null,
      "outputs": []
    },
    {
      "cell_type": "markdown",
      "source": [
        "## Target Label encoding"
      ],
      "metadata": {
        "id": "WeGxEhYQ2mW2"
      }
    },
    {
      "cell_type": "code",
      "source": [
        "# convert class vectors to binary class matrices\n",
        "num_classes=10\n",
        "y_train = tf.keras.utils.to_categorical(y_train)\n",
        "y_test = tf.keras.utils.to_categorical(y_test)"
      ],
      "metadata": {
        "id": "ZpyKEEFm2qzE"
      },
      "execution_count": null,
      "outputs": []
    },
    {
      "cell_type": "code",
      "source": [
        "cb_early_stopping = keras.callbacks.EarlyStopping(monitor='val_loss',\n",
        "                                                  patience=4,\n",
        "                                                  restore_best_weights=True)\n",
        "cb_model_checkpoint = keras.callbacks.ModelCheckpoint(\"bestModel_MNIST_Fashion.h5\",\n",
        "                                                      save_best_only=True)\n",
        "history = model.fit(x=X_train, y=y_train, validation_split=0.1, epochs=10,\n",
        "batch_size=16,callbacks=[cb_early_stopping,cb_model_checkpoint])"
      ],
      "metadata": {
        "colab": {
          "base_uri": "https://localhost:8080/"
        },
        "id": "o-a132CW2zld",
        "outputId": "3fc7965b-a6bc-4c21-f8f2-9f782f243177"
      },
      "execution_count": null,
      "outputs": [
        {
          "output_type": "stream",
          "name": "stdout",
          "text": [
            "Epoch 1/10\n",
            "3375/3375 [==============================] - 24s 6ms/step - loss: 0.4642 - accuracy: 0.8347 - val_loss: 0.3556 - val_accuracy: 0.8655\n",
            "Epoch 2/10\n",
            "3375/3375 [==============================] - 19s 6ms/step - loss: 0.3338 - accuracy: 0.8813 - val_loss: 0.3284 - val_accuracy: 0.8848\n",
            "Epoch 3/10\n",
            "3375/3375 [==============================] - 21s 6ms/step - loss: 0.2933 - accuracy: 0.8934 - val_loss: 0.3054 - val_accuracy: 0.8852\n",
            "Epoch 4/10\n",
            "3375/3375 [==============================] - 22s 7ms/step - loss: 0.2662 - accuracy: 0.9027 - val_loss: 0.3422 - val_accuracy: 0.8788\n",
            "Epoch 5/10\n",
            "3375/3375 [==============================] - 21s 6ms/step - loss: 0.2469 - accuracy: 0.9087 - val_loss: 0.2747 - val_accuracy: 0.9047\n",
            "Epoch 6/10\n",
            "3375/3375 [==============================] - 19s 6ms/step - loss: 0.2291 - accuracy: 0.9170 - val_loss: 0.2514 - val_accuracy: 0.9087\n",
            "Epoch 7/10\n",
            "3375/3375 [==============================] - 21s 6ms/step - loss: 0.2121 - accuracy: 0.9223 - val_loss: 0.2465 - val_accuracy: 0.9107\n",
            "Epoch 8/10\n",
            "3375/3375 [==============================] - 20s 6ms/step - loss: 0.2011 - accuracy: 0.9261 - val_loss: 0.2379 - val_accuracy: 0.9130\n",
            "Epoch 9/10\n",
            "3375/3375 [==============================] - 20s 6ms/step - loss: 0.1866 - accuracy: 0.9330 - val_loss: 0.2648 - val_accuracy: 0.9088\n",
            "Epoch 10/10\n",
            "3375/3375 [==============================] - 19s 6ms/step - loss: 0.1752 - accuracy: 0.9351 - val_loss: 0.2521 - val_accuracy: 0.9165\n"
          ]
        }
      ]
    },
    {
      "cell_type": "markdown",
      "source": [
        "\n",
        "## Displaying the learning of the network"
      ],
      "metadata": {
        "id": "rZ5no56i4aOk"
      }
    },
    {
      "cell_type": "code",
      "source": [
        "# Plot training & validation accuracy values\n",
        "plt.plot(history.history['accuracy'])\n",
        "plt.plot(history.history['val_accuracy'])\n",
        "plt.title('Model accuracy')\n",
        "plt.ylabel('Accuracy')\n",
        "plt.xlabel('Epoch')\n",
        "plt.legend(['Train', 'Test'], loc='upper left')\n",
        "plt.show()\n",
        "# Plot training & validation loss values\n",
        "plt.plot(history.history['loss'])\n",
        "plt.plot(history.history['val_loss'])\n",
        "plt.title('Model loss')\n",
        "plt.ylabel('Loss')\n",
        "plt.xlabel('Epoch')\n",
        "plt.legend(['Train', 'Test'], loc='upper left')\n",
        "plt.show()"
      ],
      "metadata": {
        "colab": {
          "base_uri": "https://localhost:8080/",
          "height": 927
        },
        "id": "TLrMKRM04ezf",
        "outputId": "5c7ca7bd-cbfd-4bbf-fb46-de32937bb0cb"
      },
      "execution_count": null,
      "outputs": [
        {
          "output_type": "display_data",
          "data": {
            "text/plain": [
              "<Figure size 640x480 with 1 Axes>"
            ],
            "image/png": "iVBORw0KGgoAAAANSUhEUgAAAkAAAAHHCAYAAABXx+fLAAAAOXRFWHRTb2Z0d2FyZQBNYXRwbG90bGliIHZlcnNpb24zLjcuMSwgaHR0cHM6Ly9tYXRwbG90bGliLm9yZy/bCgiHAAAACXBIWXMAAA9hAAAPYQGoP6dpAABq/klEQVR4nO3deVxU9f7H8dcMsgsouyAKmrnnLrmkWe5l6bUstVwqbbHVuvenadqqbde8ZZvdsm5p2b6rKZlm7mvuGyqKIuICCrLNnN8fR8ZwSxQ4wLyfj8c8PBzOnPkMlPP2u9oMwzAQERERcSN2qwsQERERKW0KQCIiIuJ2FIBERETE7SgAiYiIiNtRABIRERG3owAkIiIibkcBSERERNyOApCIiIi4HQUgERERcTsKQCJSqmw2G08//XSRn7d7925sNhsffvhhsdckIu5HAUjEDX344YfYbDZsNhuLFi066/uGYRATE4PNZuPGG2+0oEIRkZKlACTixnx8fJgxY8ZZ5xcsWMC+ffvw9va2oCoRkZKnACTixnr27MkXX3xBfn5+ofMzZsygRYsWREZGWlSZ+8jMzLS6BBG3pAAk4sb69+/P4cOHmTt3rutcbm4uX375JQMGDDjnczIzM3n88ceJiYnB29ubunXr8uqrr2IYRqHrcnJyeOyxxwgLCyMgIICbbrqJffv2nfOeycnJ3HXXXURERODt7U3Dhg354IMPLuk9HTlyhCeeeILGjRtTuXJlAgMD6dGjB+vWrTvr2uzsbJ5++mmuvPJKfHx8qFatGv/4xz/YuXOn6xqn08l//vMfGjdujI+PD2FhYXTv3p2VK1cCFx6bdOZ4p6effhqbzcamTZsYMGAAVatWpX379gD8+eefDBkyhFq1auHj40NkZCR33XUXhw8fPufP6+677yYqKgpvb2/i4uK4//77yc3NJTExEZvNxmuvvXbW8xYvXozNZuPTTz8t6o9VpMKpZHUBImKd2NhY2rRpw6effkqPHj0AmDVrFunp6dx+++28/vrrha43DIObbrqJ+fPnc/fdd9O0aVPmzJnDP//5T5KTkwt96N5zzz188sknDBgwgLZt2/Lrr79yww03nFXDwYMHufrqq7HZbDz44IOEhYUxa9Ys7r77bjIyMnj00UeL9J4SExP59ttvufXWW4mLi+PgwYO8++67dOzYkU2bNhEVFQWAw+HgxhtvJCEhgdtvv51HHnmE48ePM3fuXDZs2EDt2rUBuPvuu/nwww/p0aMH99xzD/n5+fz+++8sXbqUli1bFqm2Arfeeit16tRhwoQJruA4d+5cEhMTGTp0KJGRkWzcuJGpU6eyceNGli5dis1mA2D//v20bt2aY8eOMXz4cOrVq0dycjJffvklWVlZ1KpVi3bt2jF9+nQee+yxQq87ffp0AgICuPnmmy+pbpEKxRARtzNt2jQDMFasWGFMmTLFCAgIMLKysgzDMIxbb73V6NSpk2EYhlGzZk3jhhtucD3v22+/NQDj+eefL3S/W265xbDZbMaOHTsMwzCMtWvXGoDxwAMPFLpuwIABBmCMHz/ede7uu+82qlWrZqSlpRW69vbbbzeCgoJcde3atcsAjGnTpl3wvWVnZxsOh6PQuV27dhne3t7Gs88+6zr3wQcfGIAxadKks+7hdDoNwzCMX3/91QCMhx9++LzXXKiuM9/r+PHjDcDo37//WdcWvM+/+vTTTw3AWLhwoevcoEGDDLvdbqxYseK8Nb377rsGYGzevNn1vdzcXCM0NNQYPHjwWc8TcUfqAhNxc/369ePkyZP8+OOPHD9+nB9//PG83V8///wzHh4ePPzww4XOP/744xiGwaxZs1zXAWddd2ZrjmEYfPXVV/Tq1QvDMEhLS3M9unXrRnp6OqtXry7S+/H29sZuN/9qczgcHD58mMqVK1O3bt1C9/rqq68IDQ3loYceOuseBa0tX331FTabjfHjx5/3mktx3333nXXO19fXdZydnU1aWhpXX301gKtup9PJt99+S69evc7Z+lRQU79+/fDx8WH69Omu782ZM4e0tDTuuOOOS65bpCJRABJxc2FhYXTu3JkZM2bw9ddf43A4uOWWW8557Z49e4iKiiIgIKDQ+fr167u+X/Cn3W53dSMVqFu3bqGvDx06xLFjx5g6dSphYWGFHkOHDgUgNTW1SO/H6XTy2muvUadOHby9vQkNDSUsLIw///yT9PR013U7d+6kbt26VKp0/pEAO3fuJCoqiuDg4CLV8Hfi4uLOOnfkyBEeeeQRIiIi8PX1JSwszHVdQd2HDh0iIyODRo0aXfD+VapUoVevXoVm+E2fPp3o6Giuu+66YnwnIuWXxgCJCAMGDGDYsGGkpKTQo0cPqlSpUiqv63Q6AbjjjjsYPHjwOa+56qqrinTPCRMm8NRTT3HXXXfx3HPPERwcjN1u59FHH3W9XnE6X0uQw+E473P+2tpToF+/fixevJh//vOfNG3alMqVK+N0Ounevfsl1T1o0CC++OILFi9eTOPGjfn+++954IEHXK1jIu5OAUhE6NOnD/feey9Lly5l5syZ572uZs2azJs3j+PHjxdqBdqyZYvr+wV/Op1OVytLga1btxa6X8EMMYfDQefOnYvlvXz55Zd06tSJ999/v9D5Y8eOERoa6vq6du3aLFu2jLy8PDw9Pc95r9q1azNnzhyOHDly3lagqlWruu7/VwWtYRfj6NGjJCQk8MwzzzBu3DjX+e3btxe6LiwsjMDAQDZs2PC39+zevTthYWFMnz6d+Ph4srKyuPPOOy+6JpGKTv8UEBEqV67M22+/zdNPP02vXr3Oe13Pnj1xOBxMmTKl0PnXXnsNm83mmklW8OeZs8gmT55c6GsPDw/69u3LV199dc4P9UOHDhX5vXh4eJw1Jf+LL74gOTm50Lm+ffuSlpZ21nsBXM/v27cvhmHwzDPPnPeawMBAQkNDWbhwYaHvv/XWW0Wq+a/3LHDmz8tut9O7d29++OEH1zT8c9UEUKlSJfr378/nn3/Ohx9+SOPGjYvcmiZSkakFSEQAztsF9Ve9evWiU6dOjBkzht27d9OkSRN++eUXvvvuOx599FHXmJ+mTZvSv39/3nrrLdLT02nbti0JCQns2LHjrHu++OKLzJ8/n/j4eIYNG0aDBg04cuQIq1evZt68eRw5cqRI7+PGG2/k2WefZejQobRt25b169czffp0atWqVei6QYMG8b///Y+RI0eyfPlyrrnmGjIzM5k3bx4PPPAAN998M506deLOO+/k9ddfZ/v27a7uqN9//51OnTrx4IMPAuaU/xdffJF77rmHli1bsnDhQrZt23bRNQcGBtKhQwdefvll8vLyiI6O5pdffmHXrl1nXTthwgR++eUXOnbsyPDhw6lfvz4HDhzgiy++YNGiRYW6LwcNGsTrr7/O/Pnzeemll4r0cxSp8CybfyYilvnrNPgLOXMavGEYxvHjx43HHnvMiIqKMjw9PY06deoYr7zyimsKdoGTJ08aDz/8sBESEmL4+/sbvXr1Mvbu3XvW1HDDMIyDBw8aI0aMMGJiYgxPT08jMjLSuP76642pU6e6rinKNPjHH3/cqFatmuHr62u0a9fOWLJkidGxY0ejY8eOha7NysoyxowZY8TFxble95ZbbjF27tzpuiY/P9945ZVXjHr16hleXl5GWFiY0aNHD2PVqlWF7nP33XcbQUFBRkBAgNGvXz8jNTX1vNPgDx06dFbd+/btM/r06WNUqVLFCAoKMm699VZj//795/x57dmzxxg0aJARFhZmeHt7G7Vq1TJGjBhh5OTknHXfhg0bGna73di3b98Ff24i7sZmGGe0uYqISIXRrFkzgoODSUhIsLoUkTJFY4BERCqolStXsnbtWgYNGmR1KSJljlqAREQqmA0bNrBq1Sr+/e9/k5aWRmJiIj4+PlaXJVKmqAVIRKSC+fLLLxk6dCh5eXl8+umnCj8i51AmAtCbb75JbGwsPj4+xMfHs3z58vNem5eXx7PPPkvt2rXx8fGhSZMmzJ49+7zXv/jii9hstiJvqCgiUl49/fTTOJ1ONm/eTMeOHa0uR6RMsjwAzZw5k5EjRzJ+/HhWr15NkyZN6Nat23mXvx87dizvvvsub7zxBps2beK+++6jT58+rFmz5qxrV6xYwbvvvqu1L0RERKQQy8cAxcfH06pVK9diZE6nk5iYGB566CFGjRp11vVRUVGMGTOGESNGuM717dsXX19fPvnkE9e5EydO0Lx5c9566y2ef/55mjZtetaiYiIiIuKeLF0IMTc3l1WrVjF69GjXObvdTufOnVmyZMk5n5OTk3NWf7avry+LFi0qdG7EiBHccMMNdO7cmeeff75IdTmdTvbv309AQMBl7fgsIiIipccwDI4fP05UVNTf7ntnaQBKS0vD4XAQERFR6HxERIRrb6EzdevWjUmTJtGhQwdq165NQkKCawfrAp999hmrV69mxYoVF1VHTk4OOTk5rq+Tk5Np0KDBJbwjERERsdrevXupXr36Ba8pd1th/Oc//2HYsGHUq1cPm81G7dq1GTp0KB988AFgvulHHnmEuXPnXvTMh4kTJ55zr5+9e/cSGBhYrPWLiIhIycjIyCAmJqbQZs3nY+kYoNzcXPz8/Pjyyy/p3bu36/zgwYM5duwY33333Xmfm52dzeHDh4mKimLUqFH8+OOPbNy4kW+//ZY+ffq4NhcEcDgc2Gw27HY7OTk5hb4HZ7cAFfwA09PTFYBERETKiYyMDIKCgi7q89vSWWBeXl60aNGi0BLtTqeThIQE2rRpc8Hn+vj4EB0dTX5+Pl999RU333wzANdffz3r169n7dq1rkfLli0ZOHAga9euPSv8AHh7exMYGFjoISIiIhWX5V1gI0eOZPDgwbRs2ZLWrVszefJkMjMzGTp0KGDuZhwdHc3EiRMBWLZsGcnJyTRt2pTk5GTXehf/+te/AAgICKBRo0aFXsPf35+QkJCzzouIiIh7sjwA3XbbbRw6dIhx48aRkpJC06ZNmT17tmtgdFJSUqGR3NnZ2YwdO5bExEQqV65Mz549+fjjj6lSpYpF70BERETKG8vXASqLLrYP0eFwkJeXV4qVVSyenp7n7JIUERG5FEUZA2R5C1B5ZBgGKSkpHDt2zOpSyr0qVaoQGRmp9ZZERKRUKQBdgoLwEx4ejp+fnz68L4FhGGRlZbm2PKlWrZrFFYmIiDtRACoih8PhCj8hISFWl1Ou+fr6ApCamkp4eLi6w0REpNRYvhlqeVMw5sfPz8/iSiqGgp+jxlKJiEhpUgC6ROr2Kh76OYqIiBUUgERERMTtKADJZYmNjWXy5MlWlyEiIlIkCkBuwmazXfDx9NNPX9J9V6xYwfDhw4u3WBERkRKmWWBu4sCBA67jmTNnMm7cOLZu3eo6V7lyZdexYRg4HA4qVfr7/zzCwsKKt1AREanQnE6DAxnZ2ICoKr6W1aEWIDcRGRnpegQFBWGz2Vxfb9myhYCAAGbNmkWLFi3w9vZm0aJF7Ny5k5tvvpmIiAgqV65Mq1atmDdvXqH7ntkFZrPZ+O9//0ufPn3w8/OjTp06fP/996X8bkVExEqGYZCSns2SnYf5dHkSE3/ezPD/raTrawuoP2427V78lTd+3WFpjWoBKgaGYXAyz1Hqr+vr6VGss6hGjRrFq6++Sq1atahatSp79+6lZ8+evPDCC3h7e/O///2PXr16sXXrVmrUqHHe+zzzzDO8/PLLvPLKK7zxxhsMHDiQPXv2EBwcXGy1ioiItQzD4NCJHHanZbE7LZNdhzPNP9My2XM464Kfi5XsNnIs+NwsVIOlr15BnMxz0GDcnFJ/3U3PdsPPq/h+hc8++yxdunRxfR0cHEyTJk1cXz/33HN88803fP/99zz44IPnvc+QIUPo378/ABMmTOD1119n+fLldO/evdhqFRGRkmcYBkcyc9l9OJNdZwSdPYezOJGTf97nethtVK/qS2yIP3Gh/sSG+BEbah5HV/Glkoe1nVAKQOLSsmXLQl+fOHGCp59+mp9++okDBw6Qn5/PyZMnSUpKuuB9rrrqKtexv78/gYGBri0vRESk7DmWlcuutMxCQcc8zuR49vlDjs0G0VV8TwUc/1MBx4/YEH9igv3wtDjkXIgCUDHw9fRg07PdLHnd4uTv71/o6yeeeIK5c+fy6quvcsUVV+Dr68stt9xCbm7uBe/j6elZ6GubzYbT6SzWWkVEpGgysvNcXVS707JcAWf34UyOZV14Nf6oIB9iQ08FnL8EnZhgP7wrlc9tjBSAioHNZivWrqiy4o8//mDIkCH06dMHMFuEdu/ebW1RIiJyXpk5+a5QY4adLNfx4cwL/+M1ItD7dHfVqRaduFB/aob44VPM/+AuCyrep7YUmzp16vD111/Tq1cvbDYbTz31lFpyREQsdjLXwZ4jfwk4p8bl7ErL5NDxnAs+N7Syt6uLqmA8jnnsVyH/IX8h7vVupUgmTZrEXXfdRdu2bQkNDeX//u//yMjIsLosERG3c+h4Dh8t3s03a5JJPnbygtcG+3udHnD8l6BTM8SPAB/PCz7XndgMwzCsLqKsycjIICgoiPT0dAIDAwt9Lzs7m127dhEXF4ePj49FFVYc+nmKiJzf7rRMpv6eyJer9pGbf7oFPsjX81TA8TujJcefIF/3DTkX+vw+k1qAREREyph1e4/x7sKdzNqQQkEzRdOYKtzboRZX1wqhqr+XtQVWAApAIiIiZYBhGCzYdoh3FuxkaeIR1/nr64Vzb8fatIqtWqyL37o7BSAREREL5Tmc/PTnAd5ZsJMtKccBc6Xkm5tGM7xDLepGBlhcYcWkACQiImKBrNx8Plu+l/cX7XINbPb38qB/6xrc1T7O0o1C3YECkIiISClKO5HD/xbv5n9L97gWIAyt7MXQdnHcEV+TID/3HcRcmhSARERESsGew5n89/ddfL5yLzmnZnTFhvgxvENt/tE8ukIuNliWKQCJiIiUoPX70nln4U5mrT+A89SMribVg7ivY226NozEw66BzVZQABIRESlmhmHw+/Y03l24kz92HHadv7ZuGPd2qM3VtYI1o8tiCkAiIiLFJN/h5Kf1B3h3QSKbDpgr53vYbdzUJIrhHWpRv9qFF+eT0qMAJCIicpmycvP5YuU+3vs9kX1HzRldfl4e3N6qBne1j6V6VT+LK5QzKQC5ib9rah0/fjxPP/30Jd/7m2++oXfv3pf0fBGR8upIZi4fLd7N/5bs5uipGV0h/l4MaRvLnW1qUsVPKzaXVQpAbuLAgQOu45kzZzJu3Di2bt3qOle5cmUryhIRKZf2Hsniv78nMnPlXrLzzBldNYL9GNahFre2qK4ZXeWA3eoCpHRERka6HkFBQdhstkLnPvvsM+rXr4+Pjw/16tXjrbfecj03NzeXBx98kGrVquHj40PNmjWZOHEiALGxsQD06dMHm83m+lpEpCLakJzOQ5+uoeMr8/loyR6y85w0jg5iyoBmzH/iWu68uqbCTzmhFqDiYBiQl1X6r+vpB8Uwi2D69OmMGzeOKVOm0KxZM9asWcOwYcPw9/dn8ODBvP7663z//fd8/vnn1KhRg71797J3714AVqxYQXh4ONOmTaN79+54eOh/fBGpWAzDYPHOw7yzYCe/b09znb+mTij3d6xNm9ohmtFVDikAFYe8LJgQVfqv++R+8PK/7NuMHz+ef//73/zjH/8AIC4ujk2bNvHuu+8yePBgkpKSqFOnDu3bt8dms1GzZk3Xc8PCwgCoUqUKkZGRl12LiEhZke9wMmtDCu8u3MmG5NMzum5oXI17O9aiYVSQxRXK5VAAcnOZmZns3LmTu+++m2HDhrnO5+fnExRk/s89ZMgQunTpQt26denevTs33ngjXbt2tapkEZESdTLXwZer9vLe77tIOmK27vt42rm9VQ3ubh9HTLBmdFUECkDFwdPPbI2x4nUv04kTJwB47733iI+PL/S9gu6s5s2bs2vXLmbNmsW8efPo168fnTt35ssvv7zs1xcRKSuOZuby8dI9fLh4N0cycwGo6ufJ4LaxDGoTS7C/ZnRVJApAxcFmK5auKCtEREQQFRVFYmIiAwcOPO91gYGB3Hbbbdx2223ccsstdO/enSNHjhAcHIynpycOh6MUqxYRKT77jmbx3993MXPFXk7mmX+XVa/qy7BratGvZQy+XhrbWBEpAAnPPPMMDz/8MEFBQXTv3p2cnBxWrlzJ0aNHGTlyJJMmTaJatWo0a9YMu93OF198QWRkJFWqVAHMmWAJCQm0a9cOb29vqlatau0bEhG5CJv2ZzB14U5++PMAjlObdDWoFsh919amZ6NIKnloonRFpgAk3HPPPfj5+fHKK6/wz3/+E39/fxo3bsyjjz4KQEBAAC+//DLbt2/Hw8ODVq1a8fPPP2O3m385/Pvf/2bkyJG89957REdHs3v3buvejIjIBRiGwZLEw7yzIJGF2w65zre/IpR7O9ai/RWhmtHlJmyGYRhWF1HWZGRkEBQURHp6OoGBhfdtyc7OZteuXcTFxeHj42NRhRWHfp4iUhocToM5G1N4d8FO1u1LB8Bug56Nq3Fvh9o0rq4ZXRXBhT6/z6QWIBERqZAyc/JZtecoSxMP8/P6A+w+bM7o8q5kp1/LGIZdU4saIZrR5a4UgEREpEL4a+BZmniYP/elk+883clRxc+TQW1iGdymJiGVvS2sVMoCBSARESmXMnPyWfmXwLP+jMAD5myuq2uF0KZWCN0bReLvrY89Mem/BBERKReKEniurhVCfFywFi2U81IAukQaO1489HMUkfM5M/D8uS/dNV29gAKPXCoFoCLy9PQEICsrC19fX4urKf+yssxBiQU/VxFxXydy8lm5+whLE4+YLTzJCjxSchSAisjDw4MqVaqQmpoKgJ+fn9aMuASGYZCVlUVqaipVqlTRLvIibuhiAk9MsC9Xx50KPLWCqV5VgUeKhwLQJSjY9bwgBMml0y7yIu7jRE4+K3abYWdZ4hEFHrGUAtAlsNlsVKtWjfDwcPLy8qwup9zy9PRUy49IBfbXwLM08QgbFHikDFEAugweHh76ABcROeV4dt5fBi0r8EjZpgAkIiKX5Hh2Hit3nwo8u84deGoE+3F1reBTgSeE6CqaPCJlgwKQiIhclEKB59Sg5TPyjgKPlBsKQCIick4ncx2usKPAIxWNApCIiLjkOZws2pHG92v3M2djClm5jkLfrxniZ47hqR1MfFwIUQo8Uk4pAImIuDmn02B10lG+W7ufn9Yf4Ehmrut70VV8aX9FqAKPVDgKQCIibmprynG+W5vMd2v3k3zspOt8iL8XN15VjZuaRtO8RhUt9ioVkgKQiIgb2Xc0i+/X7ef7tfvZknLcdd7fy4NuDSO5qWkU7a8IpZKH3cIqRUpemfgv/M033yQ2NhYfHx/i4+NZvnz5ea/Ny8vj2WefpXbt2vj4+NCkSRNmz55d6JqJEyfSqlUrAgICCA8Pp3fv3mzdurWk34aISJl0JDOXj5fu4dZ3FtP+pfm8PHsrW1KO4+lho0uDCKYMaMbKsV2YdFtTrq0brvAjbsHyFqCZM2cycuRI3nnnHeLj45k8eTLdunVj69athIeHn3X92LFj+eSTT3jvvfeoV68ec+bMoU+fPixevJhmzZoBsGDBAkaMGEGrVq3Iz8/nySefpGvXrmzatAl/f//SfosiIqUuMyefuZsO8t3aZH7fnkb+qelbNhvExwVzc9NoejSKpIqfl8WViljDZhiG8feXlZz4+HhatWrFlClTAHA6ncTExPDQQw8xatSos66PiopizJgxjBgxwnWub9+++Pr68sknn5zzNQ4dOkR4eDgLFiygQ4cOf1tTRkYGQUFBpKenExgYeInvTESkdOXmO/l9+yG+W7ufuZsOcjLv9AyuRtGB3NwkmhubVKNakAYyS8VUlM9vS1uAcnNzWbVqFaNHj3ads9vtdO7cmSVLlpzzOTk5Ofj4+BQ65+vry6JFi877Ounp6QAEBwcXQ9UiImWH02mwYvcRvlu3n5/XH+BY1un9CWuG+HFzkyhuahrNFeGVLaxSpOyxNAClpaXhcDiIiIgodD4iIoItW7ac8zndunVj0qRJdOjQgdq1a5OQkMDXX3+Nw+E45/VOp5NHH32Udu3a0ahRo3Nek5OTQ05OjuvrjIyMS3xHIiIlzzAMNh84znfrkvlh7X72p2e7vhda2ZteTapxc9NomlQP0gwukfOwfAxQUf3nP/9h2LBh1KtXD5vNRu3atRk6dCgffPDBOa8fMWIEGzZsuGAL0cSJE3nmmWdKqmQRkWKRdDiL79eZ09a3p55wna/sXYnujSK5uWkUbWqFaBCzyEWwNACFhobi4eHBwYMHC50/ePAgkZGR53xOWFgY3377LdnZ2Rw+fJioqChGjRpFrVq1zrr2wQcf5Mcff2ThwoVUr179vHWMHj2akSNHur7OyMggJibmEt+ViEjxSTuRw09/HuC7tcmsTjrmOu/lYee6euHc3DSKTvXC8fH0sK5IkXLI0gDk5eVFixYtSEhIoHfv3oDZZZWQkMCDDz54wef6+PgQHR1NXl4eX331Ff369XN9zzAMHnroIb755ht+++034uLiLngvb29vvL29L/v9iIgUhxM5+czZkMJ36/bzx4401w7rNhu0rR3CzU2j6dYwkiBfT4srFSm/LO8CGzlyJIMHD6Zly5a0bt2ayZMnk5mZydChQwEYNGgQ0dHRTJw4EYBly5aRnJxM06ZNSU5O5umnn8bpdPKvf/3Ldc8RI0YwY8YMvvvuOwICAkhJSQEgKCgIX1/NfhCRsicn38GCrYf4bt1+5m06SE6+0/W9JtWDuKlpNL2uqkZ4oM8F7iIiF8vyAHTbbbdx6NAhxo0bR0pKCk2bNmX27NmugdFJSUnY7af7s7Ozsxk7diyJiYlUrlyZnj178vHHH1OlShXXNW+//TYA1157baHXmjZtGkOGDCnptyQiclEcToNluw7z/VpzBldGdr7re7VC/bmpaRQ3N40mLlTrl4kUN8vXASqLtA6QiJQUwzDYuD+D79Ym88O6A6RknJ7BFR7gzU1NzNDTKDpQM7hEiqjcrAMkIuIudqdl8t3a/Xy3LpnEQ5mu8wE+lejZqBo3N4siPi4ED7tCj0hpUAASESkhqcez+XHdAb5bt591e4+5zntXstO5fgQ3NY3i2rpheFfSDC6R0qYAJCJSjAzD4JdNB/l4yR4W70zj1AQu7DZoXyeMm5tE0bVhBAE+msElYiUFIBGRYrIm6SgTft7Mit1HXeea1ajCzU2iuOGqKMICtNyGCADOU7s32K1r/VQAEhG5THuPZPHynK38sG4/AD6edu5qF8ftrWpQI8TP4upEyhCnEzZ/D79NhLYPQ7OBlpWiACQiconSs/J487cdfPjHbnIdTmw2uKV5dR7vWpfIIK3XI+JiGLB1FsyfAAfXm+eWvwtNB5grfFpAAUhEpIhy8518snQPr/+63bX7evsrQnmyZ30aRGnpDBEXw4AdCTD/Bdi/2jznFQBtHoCrH7As/IACkIjIRTMMg9kbUnhx9hb2HM4C4MqIyjzZsz4drwzTuj0if5W4wAw+e5eZX3v6Qfy9ZteXX7C1taEAJCJyUVYnHeWFnzazao85wDm0sjePd72SW1tU1+7rIn+1Z4kZfHb/bn5dyQda3QPtHoXKYZaW9lcKQCIiF5B0OIuX5mzhpz8PAOYA5+EdanNvh1r4e+uvUBGXfatg/vOw81fzaw8vaDEE2o+EwGqWlnYu+r9XROQcjmXlMuXXHXy0ZDd5DgObDW5tUZ2RXTTAWaSQA+vMwc3bZptf2ytBszvgmiegSoy1tV2AApCIyF/k5Dv4eMke3vh1B+knzQHO19QxBzjXr6YBziIuBzfBbxNg8w/m1zY7NOkPHf4JwXHW1nYRFIBERDAHOP+8PoWXZm8h6Yg5wLluRABP3mAOcBaRU9K2m+v4bPgaMAAbNL4FOo6C0Cusru6iKQCJiNtbtecIL/y0mdVJxwAIC/Dmia5XckuLGG1OKlLgSCIseBn+nAmG0zzX4Ga4djSE17e2tkugACQibmvP4Uxemr2Fn9enAODr6cG9HWsx7BoNcBZxOZYEC1+BNdPBOLWFRd2eZvCpdpW1tV0G/R8uIm7nWFYub/y6g//9ZYBzvxYxjOx6JRGBGuBc4RgGOPKgkpfVlZQvGfvh93/Dqo/AaY6H44rO0OlJiG5hbW3FQAFIRNxGwQDn1xO2k5GdD0CHK8MY3aOeBjhXBI48OLILDm+HtG3mWJW0beYjOwOqNTE/wK+4Hqq3Ag9Pqysum06kwqLXYMX74Mgxz8V1gE5joUa8tbUVIwUgEanwDMPgp/UHeGn2FvYeOQlAvcgARvfUAOdy6eRRSNtxOtwUBJ2ju8CZf/7nHVhrPn5/FbwDzQ/12teZgahqbCkVX4ZlHobF/4Hl70GeORGAGm2g0xiIu8ba2kqAApCIVGgrdx/hhZ83s+bUAOfwAG+e6FqXvi2qa4BzWeZ0QPrewq04BceZh87/PE9/cyZS6JWnHnXMP70DYfci2JlgLtSXdRi2/Gg+AEKugNrXm2Eotj14+ZfO+ywLTh6DJVNg6duQe8I8F93CDD61r7N0v66SZDMMw7C6iLImIyODoKAg0tPTCQxUs7hIebQ7zRzgPGuDOcDZz8uDezvUZliHOPy89G+/MiPnBBzecXbQObIT8rPP/7yAqNPh5q9BJzDq7z+wnU6zJWhnAuz41dyrqmBwL5grGNe42uwuq309RDSsmCEgOwOWvQOLp0BOunku8ioz+FzZrVy+56J8fisAnYMCkEj5dTQzl9d/3c4nS/eQ5zCw26BfyxhGdrmScA1wtoZhwPEDZ4zL2W4+Mvad/3keXmbLzJlBJ+QK8A4ovvqy02HXQnPX8p0J5qynv6ocebqrrFYn8A8pvte2Qm4mLJ8Kf/zH7E4ECG9gzuqq36tcBp8CCkCXSQFIpPzJznPwvyW7eePXHRw/NcD52rphjO5Rn7qRxfhhKeeXnwOHd5oB5/D2wmGnoGvlXPxCC7fihF5pdmNVqQl2j9KrH8ywdnjnqdaheWa3WcF4GABsENXMDEO1CwZTl5MWxbyTsPIDc4BzQTdiSB24dhQ0/AfYy/+mvgpAl0kBSKT8MAyDH/48wMuzt7Dv6OkBzmNuqM81dTTAudgZhjl+5qzWnG1wbM/pBfLOZPMwt0dwteLUOX3sF1y676Eo8nMgacmp1qFf4eCGwt/3DoRaHU+PH6pSw5o6LyQ/B1b/z5zSftzc1JeqsebKzY1vLT8B7iIoAF0mBSCR8mH5LnOA87q9xwCICPTm8a516dtcA5wvW95JsyvoSOLZg5ALuk3OxTuwcCtOwXHVuIqxDk/GATMI7UyAnfPh5JHC3w+pYwahKzpDzXbg5WdNnWAuC7B2Oix81RxQDhAUY+7V1XRAhVwGQAHoMikAiZRtiYdO8NLsLczZeBAwBzjf17E291yjAc4XzTDM9V6O7j7jscv8s6Cl4Hyq1CjcilMQdCqHl+sxJEXidJiDqXf8anaX7VtxxmBqb6jZ5nTrUHiD0vnZOPJh/eew4CXzdwkQUA2ueRyaD4JK3iVfg0UUgC6TApBI2XQkM5fXE8wBzvlOc4Dzba1q8FiXOoQHaIDzWfKyzW6ps0LOqUehsS3n4BUAwbFnz7QKrm1ty0ZZdfKYOZi6YHZZ+hmDqQOqnQpD15mDqYu768/phI1fmxuVHt5hnvMPg/YjoeVQ8PQt3tcrgxSALpMCkEjZkp3n4KPFu5ky//QA5051wxjdsz5XRrjxAGfDMAezFgSaI7sKB5zj+y/8fJsdAqtD1ZrmmJCCR3Cc2WXlW9V9WnOKm2GYXYY7E8zxQ7sXQf7Jv1xgg+jmpwJRZ3PdnUsdi+N0wpYfYP5EOLTZPOcbDO0egdbD3GpNIwWgy6QAJFI2OJ0GP/y5n5dnbyX5mPnhUb9aIGN61qd9nVCLqyslednmWJxzdVMVpRWn6pmPOHM8SEUYl1Me5GWbg6kLAlHqpsLf9w4yB1MXzC6rEvP39zQM2DYb5r8AKevNcz5B0OYhuPq+4l0qoJxQALpMCkAi1luWeJgJP29m3T5zgbbIQB+e6FaXPs2iK9YAZ8OAzLTCoeavj4z9wIX+mrZBUPVzB5yqsWY3i1pxyp6M/eZg6h0JkDj/7IHloXVPh6HYdoW7rwzDDFLzJ0DyKvOcVwBcfT+0GQG+VUrtbZQ1CkCXSQFIxDqJh04wcdYW5m4yBzj7e3lw/7W1ubt9LXy9SnlNmOKSn3O6FefMbqqjuyEv88LP96p8KtDU/EsXVaxacSoKpwP2rzm9EOO+FYWXE/DwhpptT+1ZFgeL34C9S83vefpB6+Fmd1dZXk6glCgAXSYFIJHSt35fOp8s3cNXq/e5Bjjf3roGj3YuRwOcDcMcfJr4G+xfe7pVp0itODX/0oKjVhy3dPIY7Fpgzizb8eu5V8uu5AMt74b2j5oz7wQo2ue35ouKiGUyc/L5ft1+ZixLYn1yuuv8dfXCGd2jHnXKwwDnE6mQuMAMPYm/nX9rhzNbcf7aTVUlpkJPTZYi8q0CDW42H4Zhrr1U0DqUugXq9jCntAdWs7rSck0BSERK3cb96cxYlsR3a/dzIsec1eXpYaN7o2rceXVNWseV4ab83EzYs8Qct5H429krA3t4mxtp1mxr7llVEHb8QtSKI0Vns0FYXfPR5gGrq6lQFIBEpFRk5ebzw7r9zFi+17VyM0BcqD/9W8fQt3l1QiqXwVYQR7652F3ifNj5m7lzuDOv8DWRV0Gta6F2J4i5WmvkiJQDCkAiUqI2H8hgxrIkvl2TzPG/tPZ0bRjJwNY1uLpWCPayNKurYDPMghaeXb9DTnrha4JqQO1rzdAT1xH83WRKvkgFogAkIsXuZK6DH/7cz6fLk1iTdMx1vmaIH/1b1+CWFtUJLUutPScOmYNOE+eb43kK9k0q4BMEcR3M1XtrXQvBtdSdJVLOKQCJSLHZmnKcGcv28PWaZNeKzZXsNro2jGBA65q0rV1GWntysyBpsbmZZeICOLi+8Pc9vCAm/nS3VrWmYC+nU/BF5JwUgETksmTnOfjpzwPMWJ7Eqj2nF3OLCfbl9lY1uLVldeunsTsd5rT0gm6tvcvAkVv4msjGZuCpdS3UaKtxPCIVnAKQiFyS7QePM31ZEl+v3kfGqdYeD7uNLvUjGBBfg/ZXhFrX2mMYcCTxL+N4FkL2GeN4AqufGsfTyRzHUznMikpFxCIKQCJy0bLzHMzacIAZy5JYsft0a090FV/6t46hX8sYwgMtau3JTDu9Fk/igrN34vYOgrhrTnVrXadxPCJuTgFIRP7WjtQTfLo8ia9W7+NYljkF3MNu4/p64QyIr8E1dcJKf3+u3Cxzc8mCVp6UM8bx2D3N9XhqdTRbeao1vfTdtkWkwtHfBiJyTjn5DmZvSGH6siSW7zriOh9dxZfbWpmtPZFBpdja43ScWo/nN/ORtPTscTwRjU6N4+kENduAl3/p1Sci5YoCkIgUsvPQCT5bnsSXq/Zx9FRrj90G19WLYGB8DTpcWUqtPYZh7qW186/jeI4VviYw+vTU9FodtSeSiFw0BSARISffwZyNB5mxbA9LE0+39lQL8uG2VjHc1iqGakG+pVDICdj+y+lurWNnjuMJPLUez7XmI+QKjeMRkUuiACTixnanZfLp8iS+WLWPI5lmd5LdBp3qhtO/dQ2urRtGJQ976RSTlw3/vR4ObTl9zu4JMa1Pt/JENdM4HhEpFvqbRMTN5OY7+WVTCp8uT+KPHYdd5yMCvbmtVQ1uaxVDdJVSaO0505I3zPDjGwxN+puBp2Zb8K5c+rWISIWnACTiJvYczuTT5Xv5ctVe0k6YrT02G3S8MowBrWtwXb3w0mvtOVPGfvh9knnc42W46lZr6hARt6EAJFKB5TmczNt0kBnLk/h9e5rrfHiAt2tsT/WqZWDF47njIS/L3Em98S1WVyMibkABSKQC2nski0+XJ/H5yn2kncgBzNaea+qYrT3X1w/H06rWnjMlLYP1nwM26PGiBjWLSKlQABKpIPIcThI2p55q7TmEYZjnwwK86deyOre3qkFMcBlo7fkrpxNm/5953OwOc5CziEgpUAASKeey8xz89/dE/rdkD6nHc1znr6kTyoDWNejcIKLstPacad0M2L/GnN5+/TirqxERN6IAJFKOLdqexthv17P7cBYAoZW9uLVlDP1b1aBGSBlr7TlTdgbMe8Y87vgvLWIoIqVKAUikHEo7kcPzP27i27X7AXMK+6ge9bihcRRelcpoa8+ZFr4CmanmYoat77W6GhFxMwpAIuWI02kwc+VeJv68mYzsfGw2GNwmlse7XkmAj6fV5V28tB2w9G3zuNtEqORlbT0i4nYUgETKia0pxxnzzXpW7jkKQMOoQCb0aUyTmCrWFnYpfhkDzjy4ogtc2dXqakTEDSkAiZRxJ3MdvPHrdqYuTCTfaeDn5cHILlcypG2sdQsXXo7t82DbbLBXgu4Tra5GRNxUmfjb88033yQ2NhYfHx/i4+NZvnz5ea/Ny8vj2WefpXbt2vj4+NCkSRNmz559WfcUKat+25pK18kLeOu3neQ7Dbo2iGDeyI7cc02t8hl+HHkwZ7R5HH8fhNaxth4RcVuW/w06c+ZMRo4cyfjx41m9ejVNmjShW7dupKamnvP6sWPH8u677/LGG2+wadMm7rvvPvr06cOaNWsu+Z4iZU1qRjYPzljNkGkr2HvkJNWCfJh6ZwumDmpJlBX7dBWX5e9B2jbwCzVnfomIWMRmGAXLpVkjPj6eVq1aMWXKFACcTicxMTE89NBDjBo16qzro6KiGDNmDCNGjHCd69u3L76+vnzyySeXdM8zZWRkEBQURHp6OoGBgcXxNkUuitNpMH15Ei/P3sLx7HzsNhjaLo7HulxJZe9y3mOdmQavN4ecdOj1OrQYbHVFIlLBFOXz29K/UXNzc1m1ahWjR492nbPb7XTu3JklS5ac8zk5OTn4+PgUOufr68uiRYsu6545OacXkMvIyLjk9yRyqTYfyODJb9azJukYAFdVD2JCn8Y0ig6ytrDi8utzZvip1sRc9VlExEKWdoGlpaXhcDiIiIgodD4iIoKUlJRzPqdbt25MmjSJ7du343Q6mTt3Ll9//TUHDhy45HtOnDiRoKAg1yMmJqYY3p3IxcnKzWfiz5u58Y1FrEk6RmXvSjxzU0O+eaBdxQk/B9bBqo/M4+4vgd3D2npExO1ZPgaoqP7zn/9Qp04d6tWrh5eXFw8++CBDhw7Fbr/0tzJ69GjS09Ndj7179xZjxSLnl7D5IF0mLeTdhYk4nAY9G0cyb2RHBreNxcNeQTYFNQyYNQowoFFfqNnG6opERKztAgsNDcXDw4ODBw8WOn/w4EEiIyPP+ZywsDC+/fZbsrOzOXz4MFFRUYwaNYpatWpd8j29vb3x9vYuhnckcnFS0rN55oeNzNpgtkpGV/Hlud4Nua5exN88sxza+DUkLYZKvtDlWaurEREBLG4B8vLyokWLFiQkJLjOOZ1OEhISaNPmwv9K9PHxITo6mvz8fL766ituvvnmy76nSElzOA0+/GMXnSctYNaGFDzsNu7tUIu5IztUzPCTmwW/nNrktP1jEFTd2npERE6xfFrJyJEjGTx4MC1btqR169ZMnjyZzMxMhg4dCsCgQYOIjo5m4kRzwbRly5aRnJxM06ZNSU5O5umnn8bpdPKvf/3rou8pYoUNyek8+c16/tyXDkDTmCpM6NOYBlEVeKbhH/+BjH0QFAPtHra6GhERF8sD0G233cahQ4cYN24cKSkpNG3alNmzZ7sGMSclJRUa35Odnc3YsWNJTEykcuXK9OzZk48//pgqVapc9D1FStOJnHwm/bKNDxfvwmlAgE8l/q97PQa0roG9oozzOZdje+GPyeZx1+fAsxyvXyQiFY7l6wCVRVoHSIrLnI0pPP39Rg6kZwPQq0kUT91Yn/AAn795ZgXwxRDY+A3UbA9DfgRbBQ57IlImlJt1gEQqqv3HTjL++43M3WQOxo8J9uX53o3peGWYxZWVkt1/mOHHZoceLyr8iEiZowAkUozyHU4+XLybSXO3kZXroJLdxvAOtXjoujr4ernJ2jdOB8z6P/O4xRCIbGxpOSIi56IAJFJM1u09xuiv17PpgLmSeMuaVZnwj8ZcGRFgcWWlbPX/4OB68AmCTmOtrkZE5JwUgEQuU0Z2Hv+es5X/Ld2DYUCQryeje9SjX8uYij3I+VxOHjW3vAC49knwD7G2HhGR81AAErlEhmEwa4M5yDn1uLmXXJ9m0Yy5oT6hld10Yc0FL0PWYQirB63utroaEZHzUgASuQR7j2Qx7rsNzN96CIDYED+e792Y9nVCLa7MQoe2wvKp5nH3ieDhaW09IiIXoAAkUgR5DicfLNrFa/O2kZ3nxNPDxv3XXsED19bGx9NNBjmfi2HA7FHgzIe6PaH2dVZXJCJyQQpAIhdp1Z6jjPlmPVtSjgMQHxfMC30ac0V4ZYsrKwO2zYadv4KHF3R93upqRET+lgKQyN9IP5nHy7O3MGN5EoYBVf08ebJnfW5pUR2b1reB/ByY86R5fPUDEFLb2npERC6CApDIeRiGwQ9/HuDZHzaRdsIc5HxLi+o82bM+wf5eFldXhix7B44kQuUI6PCE1dWIiFwUBSCRc9hzOJOx327g9+1pANQK8+eF3o1pU1vTugs5fhAWvGIed34avN1szSMRKbcUgET+IjffyXu/J/J6wnZy8p14VbLzYKcruLdjLbwrufEg5/NJeBZyj0N0C7jqdqurERG5aApAIqes2H2EJ79ez/bUEwC0uyKE53s3Ji7U3+LKyqjkVbD2E/O4x8tgt1tbj4hIESgAids7lpXLi7O28NmKvQCE+Hsx9sb69G4arUHO52MYp/f7atIfqre0th4RkSJSABK39t3aZJ79YROHM3MBuL1VDKN61KOKnwY5X9Cfn8O+FeDpD9ePt7oaEZEiK3IAio2N5a677mLIkCHUqFGjJGoSKXG5+U6e+WEj05clAVAnvDIT/tGYVrHBFldWDuScgHmnQk+HJyCwmrX1iIhcgiJ32j/66KN8/fXX1KpViy5duvDZZ5+Rk5NTErWJlIhDx3MY+N+lTF+WhM0Gj1xfh58evkbh52ItmgTHD0DVWHPdHxGRcuiSAtDatWtZvnw59evX56GHHqJatWo8+OCDrF69uiRqFCk26/Yeo9cbi1ix+ygBPpX4YHArHutyJV6VNID3ohzZBYunmMfdJoCnj7X1iIhcokv+W7958+a8/vrr7N+/n/Hjx/Pf//6XVq1a0bRpUz744AMMwyjOOkUu21er9nHru0tIycimdpg/341oR6d64VaXVb78MhYcOVDrWnPPLxGRcuqSB0Hn5eXxzTffMG3aNObOncvVV1/N3Xffzb59+3jyySeZN28eM2bMKM5aRS5JvsPJCz9vZtofuwHoXD+C125rQoCPdisvksTfYMuPYPOA7i+CZsiJSDlW5AC0evVqpk2bxqeffordbmfQoEG89tpr1KtXz3VNnz59aNWqVbEWKnIpjmTm8uCM1SzeeRgwx/s8cn0d7HZ9eBeJIx9mjzaPW90D4fWtrUdE5DIVOQC1atWKLl268Pbbb9O7d288Pc/+V3RcXBy3365VYcVaG/enM/x/q0g+dhJ/Lw/+3a8p3RtFWl1W+bRqGqRuAt9g6DTa6mpERC5bkQNQYmIiNWvWvOA1/v7+TJs27ZKLErlcP6zbzz+/XEd2npPYED+mDmrJlRHap+qSZB2BX583j68bA75Vra1HRKQYFDkApaamkpKSQnx8fKHzy5Ytw8PDg5YttSKsWMfhNHhlzlbeWbATgI5XhvH67c0I8tN4n0s2fwJkH4OIRtBiqNXViIgUiyLPAhsxYgR79+4963xycjIjRowolqJELkV6Vh5DP1zhCj/3dazNB0NaKfxcjoMbYeX75nH3F8GuDWFFpGIocgvQpk2baN68+VnnmzVrxqZNm4qlKJGi2nbwOMP/t5Ldh7Pw8bTz8i1NuKlJlNVllW8F+30ZTmhwM8RdY3VFIiLFpsgByNvbm4MHD1KrVq1C5w8cOEClStpaTErfnI0pjJy5lsxcB9FVfJk6qAUNo4KsLqv82/wD7P4dKvlAl+esrkZEpFgVuQusa9eujB49mvT0dNe5Y8eO8eSTT9KlS5diLU7kQpxOg0lzt3Hvx6vIzHXQplYIPzzUXuGnOORlwy9jzOO2D0PVC098EBEpb4rcZPPqq6/SoUMHatasSbNmzQBYu3YtERERfPzxx8VeoMi5HM/O47GZ65i3+SAAQ9vF8mTP+nh6aEuLYrHkDTiWBIHR0P5Rq6sRESl2RQ5A0dHR/Pnnn0yfPp1169bh6+vL0KFD6d+//znXBBIpbomHTjD841XsSD2BVyU7E/o05pYW1a0uq+LI2A+/TzKPuzwLXv7W1iMiUgIuadCOv78/w4cPL+5aRP7W/C2pPPzZGo5n5xMZ6MO7d7agSUwVq8uqWOY9DXlZEHM1NOprdTUiIiXikkctb9q0iaSkJHJzcwudv+mmmy67KJEzGYbBW7/t5NVftmIY0LJmVd66oznhAdqNvFjtXQ5/zgRs0EP7fYlIxXVJK0H36dOH9evXY7PZXLu+2079RelwOIq3QnF7Wbn5/POLP/lp/QEABsbXYHyvhnhV0nifYuV0wqx/mcfN7oCoZtbWIyJSgor8CfLII48QFxdHamoqfn5+bNy4kYULF9KyZUt+++23EihR3FnS4Sz+8dZiflp/AE8PGxP6NOaFPo0VfkrCuhmwfw14B8L146yuRkSkRBW5BWjJkiX8+uuvhIaGYrfbsdvttG/fnokTJ/Lwww+zZs2akqhT3NCi7Wk8+OlqjmXlEVrZm3fuaE7L2GCry6qYsjNg3jPmccd/QeVwa+sRESlhRf5ntMPhICDA3FQyNDSU/fv3A1CzZk22bt1avNWJWzIMg//+nsigD5ZxLCuPJjFV+PGh9go/JWnhK5CZCiFXQOt7ra5GRKTEFbkFqFGjRqxbt464uDji4+N5+eWX8fLyYurUqWetDi1SVNl5DkZ/vZ5v1iQDcEuL6jzfuxE+ntqDqsQc3glL3zaPu02ESl7W1iMiUgqKHIDGjh1LZmYmAM8++yw33ngj11xzDSEhIcycObPYCxT3kXzsJPd+vJINyRl42G08dUN9BreNdQ2wlxIy50lw5sEVXeDKrlZXIyJSKoocgLp16+Y6vuKKK9iyZQtHjhyhatWq+qCSS7Ys8TAPTF/N4cxcqvp58ubA5rStHWp1WRXf9nmwbTbYK0H3iVZXIyJSaoo0BigvL49KlSqxYcOGQueDg4MVfuSSGIbBx0t2M/C/yzicmUuDaoF8/2B7hZ/S4MiDOaPN4/j7ILSOtfWIiJSiIrUAeXp6UqNGDa31I8UiJ9/BuG83MnPlXgBuahLFS32vwtdL431KxfL3IG0b+IWaM79ERNxIkWeBjRkzhieffJIjR46URD3iJg5mZHP71KXMXLkXuw1G96jHf25vqvBTWjLT4LcXzePrx4FPkLX1iIiUsiKPAZoyZQo7duwgKiqKmjVr4u9feKPE1atXF1txUg4Zhtm14sg1B9YWHDtOH2/ef4RXf1qPV9ZJuvgYPNwxlsbhm2HjOnDmn7o+Fxx/Ob6o82e8nvPs1z7n+bB60OpuuKqf+2z8+etzkJMO1ZqYqz6LiLiZIgeg3r17l0AZUq4cT4Fv74fULWeEiVOB5G/UB94H8D51YkEJ1noxDq6HHx+FuePNMNDqbgipbXFRJejAOlj1kXnc/SWwq9VNRNyPzSjYzEtcMjIyCAoKIj09ncDAQKvLKVscefBRL0hacvHP8fDC8PDipMNOZr6NXCrh6elNaJA/9kre4OEJdk/w8DKPXX+eOrZ7Fu28h5c5q6ng2KPSec57mvVt+QlWvAdHEk8VbIM6XaD1cKh9Pdgr0LYbhgHTekLSYmh0C9zyvtUViYgUm6J8fisAnYMC0AXMGQNLppj7Rd32MfiHnx0y/hpo7B6kZebywPTVLN9ljht7vMuVjOh0BXZ7GZo56HTCzgRYPhW2/3L6fHAtaHUPNB0IvlUsK6/YbPgKvrwLKvnCQyshqLrVFYmIFJsSDUB2u/2CU94rwgwxBaDz2PgNfDHEPL7tE6jf62+fsn5fOvd+vJL96dlU9q7E5Nua0rlBRMnWebkO74QV78OaT8xxMgCefnDVbdB6GEQ0tLa+S5WbBVNaQcY+6DRGM79EpMIpyud3kccAffPNN4W+zsvLY82aNXz00Uc888wzRb2dlBeHtsF3D5rH7R65qPDz7Zpk/u+rP8nJd1Ir1J+pg1pyRXjlEi60GITUhu4T4Lox8Ofn5nTx1I2wapr5qNneDEL1bjRbvsqLP/5jhp+gGtD2IaurERGxVLF1gc2YMYOZM2fy3XffFcftLKUWoDPknID/Xg+HtkDsNXDntxf84M93OHlx1hb+u2gXANfVC2fy7U0J9PEspYKLmWHAnsWw/F3Y/CMYp1o5A6Oh5VBoPgQqh1la4t86themtIT8bLj1I2jY2+qKRESKnSVjgBITE7nqqqs4ceJEcdzOUgpAf2EY8NXd5tiRypFw3+9QOfy8lx/NzOWhT9ewaEcaAA92uoKRXa4sW+N9Lkd68qmWoA8h85B5zsMLGvYxB01Xb2lpeef1xVDY+LXZejXkR9DK7SJSAZVoF9i5nDx5ktdff53o6OjiuJ2UJcunmuHHXgn6fXTB8LP5QAbDP17J3iMn8fPy4NVbm9CzcbVSLLYUBEXDdWOhwz9h03fmz2ffCvhzpvmIam4GoYZ9wNPH6mpNu/8ww4/NDj1eVPgREeESAtCZm54ahsHx48fx8/Pjk08+KdbixGJJy8ydwgG6PAc1rj7vpT+vP8Djn6/jZJ6DmGBf3hvUknqRFbj1rJK3uXDiVf0gebU5TmjDV7B/NXx7H/wyBpoPNtcUsnKmldMBs//PPG4xBCIbW1eLiEgZUuQusA8//LBQALLb7YSFhREfH0/VqlWLvUArqAsMOHEI3r0Gjh8wWzNumXbOlgOH02DS3K28OX8nANfUCeWN/s2o4udV2hVbLzMNVv/PnEGWsc88Z7NDvRvMVqHYa0q/9WXlNHORR58geGgN+IeU7uuLiJQirQN0mdw+ADny4ePesPt3CL0Shv0K3gFnXZZ+Mo9HP1vD/K3mWJhh18Txf93rUcmjAi0ceCkc+bBtltk9tmvh6fNh9czZY1fdDt6lMBvu5DF4ozlkHTZXfL76vpJ/TRERCxXl87vIn1TTpk3jiy++OOv8F198wUcffVTU20lZNP95M/x4+pvr/Zwj/OxIPU6fN/9g/tZDeFeyM/m2poy5oYHCD5gz5Or3gsE/wANLoeXd5s/y0Bb46XGYVB9mjYK0HSVbx4KXzPBTsNeZiIi4FPnTauLEiYSGhp51Pjw8nAkTJhRLUWKhLT/BotfM45vfgLC6Z12Skp5Nn7cWk5iWSVSQD1/d35bezTQA/pzC68ONk+DxzWYrTHBtyMmAZW/DlBbw8T9g62xzrE5xOrTVbIEC6D7x9LYfIiICXEIASkpKIi4u7qzzNWvWJCkpqcgFvPnmm8TGxuLj40N8fDzLly+/4PWTJ0+mbt26+Pr6EhMTw2OPPUZ2drbr+w6Hg6eeeoq4uDh8fX2pXbs2zz33HOrpuwiHd8I3p7pJ4u+HRn3Pedl3a5M5np1PvcgAvn+oPY2ig0qxyHLKJ8jsgnpwJdzxNVzZHbCZ2298epvZVbX4Dcg6cvmvZRgwe7S5MW3dG6D2dZd/TxGRCqbIs8DCw8P5888/iY2NLXR+3bp1hIQUbYDlzJkzGTlyJO+88w7x8fFMnjyZbt26sXXrVsLDz55uPWPGDEaNGsUHH3xA27Zt2bZtG0OGDMFmszFp0iQAXnrpJd5++20++ugjGjZsyMqVKxk6dChBQUE8/PDDRX277iM3Cz4fZLZOxFwNXZ8776WzN6YAMPDqmoRW9j7vdXIOdjtccb35OLILVr4Pqz+Go7vhl7Hw6wtw1a3moOlLnbG1bY4ZrDy8oNvzxVq+iEhFUeQWoP79+/Pwww8zf/58HA4HDoeDX3/9lUceeYTbb7+9SPeaNGkSw4YNY+jQoTRo0IB33nkHPz8/Pvjgg3Nev3jxYtq1a8eAAQOIjY2la9eu9O/fv1Cr0eLFi7n55pu54YYbiI2N5ZZbbqFr165/27Lk1gwDfhoJBzeAfxjcOu28XSYH0k+yJukYNht0K+t7epV1wXHQ9XkYuRluegMiGkP+SXMm2Tvt4YMesOFrcORd/D3zc2DOaPO4zQhzM1cRETlLkQPQc889R3x8PNdffz2+vr74+vrStWtXrrvuuiKNAcrNzWXVqlV07tz5dDF2O507d2bJkiXnfE7btm1ZtWqVK8wkJiby888/07Nnz0LXJCQksG3bNsBsmVq0aBE9evQ4by05OTlkZGQUeriVVdNg3afmlO1bpkFg1Hkv/WXjQQBa1KhKeGAZWeivvPPyg+aDzFW2h86Ghv8wF55MWgxfDoXXGsFvL8Hxg39/r2XvwJFEc9Xuax4v+dpFRMqpIneBeXl5MXPmTJ5//nnWrl2Lr68vjRs3pmbNmkW6T1paGg6Hg4iIwq0IERERbNmy5ZzPGTBgAGlpabRv3x7DMMjPz+e+++7jySefdF0zatQoMjIyqFevHh4eHjgcDl544QUGDhx43lomTpzovhu5Jq+CWacWyrt+PMRdc8HLZ28wu7+6N4os6crcj80GNduYj4wD5nYbq6bBiRT4bQIsfMXcw6v1cKje6uw1hY4fhAWvmMednz7n7D0RETFd8pzlOnXqcOutt3LjjTcWOfxcqt9++40JEybw1ltvsXr1ar7++mt++uknnnvu9HiVzz//nOnTpzNjxgxWr17NRx99xKuvvnrBKfqjR48mPT3d9di7d29pvB3rZR2BzweDI9fc2bzdIxe8/EhmLst2HQagW0MFoBIVWA06jYZHN0Df9yEmHpx5sP4LeL8LTO0Iaz6BvJOnn5PwLOQeh+gWcNVt1tUuIlIOFLkFqG/fvrRu3Zr/+7//K3T+5ZdfZsWKFedcI+hcQkND8fDw4ODBws36Bw8eJDLy3B+uTz31FHfeeSf33HMPAI0bNyYzM5Phw4czZswY7HY7//znPxk1apRrPFLjxo3Zs2cPEydOZPDgwee8r7e3N97ebjaY1+mAr+6B9L3mOJHeb/3tKsVzN6XgNKBRdCAxwX6lVKibq+QFjW8xH/vXwor3YP2XcGAdfDfCHDjdfJDZIrT21FY0PV42B1uLiMh5FflvyYULFxYac1OgR48eLFy48BzPODcvLy9atGhBQkKC65zT6SQhIYE2bdqc8zlZWVnYz/iL3cPDA8A1zf181zidzouuzS0seNmcKVTJF/p9bE7T/huu7i+1/lgjqinc/KY5aLrzMxBUA04ehT/+AzPvMK9p0r/s7kgvIlKGFLkF6MSJE3h5nb3Pk6enZ5EHD48cOZLBgwfTsmVLWrduzeTJk8nMzGTo0KEADBo0iOjoaCZOnAhAr169mDRpEs2aNSM+Pp4dO3bw1FNP0atXL1cQ6tWrFy+88AI1atSgYcOGrFmzhkmTJnHXXXcV9a1WXNvnmqsEA/SaDJGN/vYpGdl5/LHD7P7S+B+L+QVD+0eh7UPmlPflUyFxvhlirx9vdXUiIuVCkQNQ48aNmTlzJuPGjSt0/rPPPqNBgwZFutdtt93GoUOHGDduHCkpKTRt2pTZs2e7BkYnJSUVas0ZO3YsNpuNsWPHkpycTFhYmCvwFHjjjTd46qmneOCBB0hNTSUqKop77733rHrd1tE9ZtcXhrlFQ5OLW7pg/pZUch1Oaof5c0W4BteWCXYPqNfTfBzdY677E1jN6qpERMqFIm+G+sMPP/CPf/yDAQMGcN115gqzCQkJzJgxgy+//JLevXuXRJ2lqsJuhpqXDR90gwNrzYGyQ2dBpYsb+3T/J6uYtSGFBztdwRPdzt4eQ0RExGpF+fwucgtQr169+Pbbb5kwYQJffvklvr6+NGnShF9//ZXg4OBLLlpKwax/meHHNxhu/eiiw8/JXAe/ndrxXd1fIiJSERQ5AAHccMMN3HDDDYCZtj799FOeeOIJVq1ahcNRzJs6SvFY8wms/giwQd//QpWYi37qwu2HOJnnILqKLw2jKlCLmIiIuK1Lniu7cOFCBg8eTFRUFP/+97+57rrrWLp0aXHWJsXlwJ/w06lVgTs9ae5DVQR/XfzQ9jdT5UVERMqDIrUApaSk8OGHH/L++++TkZFBv379yMnJ4dtvvy3yAGgpJSePwud3Qn421OkK1zxRpKfn5juZt9lcq6mHur9ERKSCuOgWoF69elG3bl3+/PNPJk+ezP79+3njjTdKsja5XE4nfHO/udN4lRrQ590iL5C3JPEwx7PzCQvwpnmNqiVTp4iISCm76BagWbNm8fDDD3P//fdTp06dkqxJisuiSbBtFnh4m4sd+hV9kHpB91fXBhHY7er+EhGRiuGimwMWLVrE8ePHadGiBfHx8UyZMoW0tLSSrE0ux875MP/U+kg3vGquIlxEDqfB3E3a/FRERCqeiw5AV199Ne+99x4HDhzg3nvv5bPPPiMqKgqn08ncuXM5fvx4SdYpRZG+D766GwwnNLvD3CvqEqzcfYS0E7kE+Xpyda2QYi5SRETEOkWeBebv789dd93FokWLWL9+PY8//jgvvvgi4eHh3HTTTSVRoxRFfq65w3vWYYi8Cnq+esm3mr3RbP3pXD8CTw9trikiIhXHZX2q1a1bl5dffpl9+/bx6aefFldNcjl+GQPJK819ofr9Dzx9L+k2hmEwZ4O6v0REpGIqln/We3h40Lt3b77//vviuJ1cqj8/NzfGBPjHexAcd+m32pfO/vRs/Lw8uKZOaDEVKCIiUjaoX6OiOLgJfnjEPO7wT7iy22XdrqD7q1O9cHw8PS63OhERkTJFAagiyM4wFzvMy4JaneDa0Zd1O8MwTq/+3FDdXyIiUvEoAJV3hgHfPQCHd0Bgdej7Ptgvr8Vme+oJdqVl4uVhp1O98GIqVEREpOxQACrvlkyBzT+A3RP6fQT+lz9dfdZ6s/XnmjqhVPa+pP1yRUREyjQFoPJs9x8wd7x53ONFqN6yWG5bMP5Hs79ERKSiUgAqr46nwBdDwHDAVbdBy7uL5bZ7Dmey+UAGHnYbnetHFMs9RUREyhoFoPLIkWeGn8xUCG8AN74GtuLZp2vOqdafq2sFU9Xfq1juKSIiUtYoAJVH856GpCXgHQi3fQJe/sV261ma/SUiIm5AAai82fitOfAZoPdbEFK72G6dkp7NmqRj2GzQTQFIREQqMAWg8uTQNvhuhHnc7hGo36tYb//LqZ3fm9eoSnigT7HeW0REpCxRACovck6Yix3mnoCa7eG6ccX+Elr8UERE3IUCUHlgGOY2F4e2QOVIuOUD8Cje9XmOZOaybNcRQNPfRUSk4lMAKg+WT4UNX4K9krnYYUDxT0+ft+kgDqdBw6hAYoL9iv3+IiIiZYkCUFm3dznMedI87vIc1Li6RF7Gtfihur9ERMQNKACVZScOweeDwZkPDfvA1feXyMscz85j0fY0QN1fIiLiHhSAyipHPnw5FI7vh9Ar4aY3im2xwzP9uiWVXIeT2mH+1IkIKJHXEBERKUsUgMqq+S/A7t/B099c7NC75ILJHO39JSIibkYBqCza8hMsmmQe3/wGhNUtsZfKznMwf8shALo3rFZiryMiIlKWKACVNYd3wjenxvrE3w+N+pboyy3YdoiTeQ6iq/jSKDqwRF9LRESkrFAAKktys+DzQZCTDjFXQ9fnSvwl52w43f1lK6ExRiIiImWNAlBZYRjw0+NwcAP4h8Gt08DDs0RfMjffybzNBwGN/xEREfeiAFRWrPoQ1s0Am91c6TkwqsRfcmniYTKy8wmt7E3zGlVL/PVERETKCgWgsiB5Fcz6l3l8/XiI61AqLzvrVPdX14YReNjV/SUiIu5DAchqWUfMxQ4duVDvRnOX91LgcBrMPbX7ew91f4mIiJtRALKS0wFf3QPpeyG4FvR+q8QWOzzTqj1HSTuRS6BPJa6uFVIqrykiIlJWKABZacHLsDMBKvlCv4/BJ6jUXnr2qe6vzg0i8PTQfwYiIuJe9Mlnle1zYcFL5nGvyRDZqNRe2jCM06s/a/NTERFxQwpAVji6x+z6woCWd0OT20v15dcnp5N87CR+Xh50uDKsVF9bRESkLFAAKm152eZih9nHILoFdJ9Y6iUUdH91qhuOj6dHqb++iIiI1RSAStvs/4MDa8E3GG79CCp5l+rLG4bhCkDdNPtLRETclAJQaVoz3VzwEBv0/S9UiSn1EranniAxLRMvDzud6qr7S0RE3FMlqwtwKyG1IaAatLwLrrjekhIKWn+uqRNKgE/JbrUhIiJSVikAlaYaV8N9f4CvddtOqPtLREREAaj0+Vu36GDS4Sw2HcjAw26jc/0Iy+oQERGxmsYAuZHZGw8AEB8XTLC/l8XViIiIWEcByI0UdH9p7y8REXF3CkBu4mBGNquTjgHQVas/i4iIm1MAchMFW180r1GFiEAfi6sRERGxlgKQmyjo/uqu7i8REREFIHdwJDOXZbuOANC9YTWLqxEREbGeApAbmLf5IA6nQYNqgdQI8bO6HBEREcspALkBdX+JiIgUpgBUwR3PzmPR9jRAAUhERKSAAlAFN3/rIXIdTmqF+VMnvLLV5YiIiJQJCkAV3JyC7q+GkdhsNourERERKRssD0BvvvkmsbGx+Pj4EB8fz/Llyy94/eTJk6lbty6+vr7ExMTw2GOPkZ2dXeia5ORk7rjjDkJCQvD19aVx48asXLmyJN9GmZSd52D+1lRA3V8iIiJ/ZelmqDNnzmTkyJG88847xMfHM3nyZLp168bWrVsJDw8/6/oZM2YwatQoPvjgA9q2bcu2bdsYMmQINpuNSZMmAXD06FHatWtHp06dmDVrFmFhYWzfvp2qVa3bgd0qC7cdIivXQXQVXxpHB1ldjoiISJlhaQCaNGkSw4YNY+jQoQC88847/PTTT3zwwQeMGjXqrOsXL15Mu3btGDBgAACxsbH079+fZcuWua556aWXiImJYdq0aa5zcXFxJfxOyqbZp1Z/7qbuLxERkUIs6wLLzc1l1apVdO7c+XQxdjudO3dmyZIl53xO27ZtWbVqlaubLDExkZ9//pmePXu6rvn+++9p2bIlt956K+Hh4TRr1oz33nvvgrXk5OSQkZFR6FHe5TmczNt0EFD3l4iIyJksC0BpaWk4HA4iIiIKnY+IiCAlJeWczxkwYADPPvss7du3x9PTk9q1a3Pttdfy5JNPuq5JTEzk7bffpk6dOsyZM4f777+fhx9+mI8++ui8tUycOJGgoCDXIyYmpnjepIWW7DxMRnY+oZW9aFHT/br/RERELsTyQdBF8dtvvzFhwgTeeustVq9ezddff81PP/3Ec88957rG6XTSvHlzJkyYQLNmzRg+fDjDhg3jnXfeOe99R48eTXp6uuuxd+/e0ng7Jaqg+6tLg0g87Or+EhER+SvLxgCFhobi4eHBwYMHC50/ePAgkZHn7rJ56qmnuPPOO7nnnnsAaNy4MZmZmQwfPpwxY8Zgt9upVq0aDRo0KPS8+vXr89VXX523Fm9vb7y9vS/zHZUdDqfBLxvNn2sPdX+JiIicxbIWIC8vL1q0aEFCQoLrnNPpJCEhgTZt2pzzOVlZWdjthUv28PAAwDAMANq1a8fWrVsLXbNt2zZq1qxZnOWXaauTjpJ2IodAn0pcXSvE6nJERETKHEtngY0cOZLBgwfTsmVLWrduzeTJk8nMzHTNChs0aBDR0dFMnDgRgF69ejFp0iSaNWtGfHw8O3bs4KmnnqJXr16uIPTYY4/Rtm1bJkyYQL9+/Vi+fDlTp05l6tSplr3P0jZrvdn91bl+BF6VylUvp4iISKmwNADddtttHDp0iHHjxpGSkkLTpk2ZPXu2a2B0UlJSoRafsWPHYrPZGDt2LMnJyYSFhdGrVy9eeOEF1zWtWrXim2++YfTo0Tz77LPExcUxefJkBg4cWOrvzwqGYTCnYPq7ur9ERETOyWYU9B2JS0ZGBkFBQaSnpxMYGGh1OUWyfl86vaYswtfTgzXjuuDj6WF1SSIiIqWiKJ/f6h+pYGZtOABAp3phCj8iIiLnoQBUgRiGwewNp1d/FhERkXNTAKpAdqSeIDEtEy8PO9fVO3svNRERETEpAFUgBa0/7euEEuDjaXE1IiIiZZcCUAUy61QA6q7uLxERkQtSAKogkg5nselABh52G50bRPz9E0RERNyYAlAFUbD2T3xcMMH+XhZXIyIiUrYpAFUQBZufdtfihyIiIn9LAagCOJiRzao9RwHo2kABSERE5O8oAFUAv5xq/WlWowqRQT4WVyMiIlL2KQBVAAXdXz3U/SUiInJRFIDKuaOZuSxNPAJo9WcREZGLpQBUzs3dfBCH06B+tUBqhvhbXY6IiEi5oABUzs3R4ociIiJFpgBUjp3Iyef37WkA9GisACQiInKxFIDKsflbUsl1OKkV6k+d8MpWlyMiIlJuKACVYwWbn3ZrFInNZrO4GhERkfJDAaicys5zMH9rKqDxPyIiIkWlAFRO/b49jaxcB1FBPlxVPcjqckRERMoVBaBySt1fIiIil04BqBzKcziZt/kgoO4vERGRS6EAVA4tTTxM+sk8Qit70TI22OpyREREyh0FoHKooPurS4NIPOzq/hIRESkqBaByxuE0mLPxVPeXNj8VERG5JApA5czqpKOkncghwKcSbWqFWF2OiIhIuaQAVM4UdH91rh+BVyX9+kRERC6FPkHLEcMwXAFI3V8iIiKXTgGoHNmQnEHysZP4enrQoU6Y1eWIiIiUWwpA5cjsjQcAuLZuGL5eHhZXIyIiUn4pAJUj6v4SEREpHgpA5cSO1OPsPJSJl4ed6+qFW12OiIhIuaYAVE7MWm+2/rS7IoQAH0+LqxERESnfFIDKidkb1f0lIiJSXBSAyoG9R7LYuD8Du81c/0dEREQujwJQOTDnVOtPfFwIIZW9La5GRESk/FMAKgdmafaXiIhIsVIAKuNSM7JZtecoAF0bqvtLRESkOCgAlXFzNpk7vzeNqUK1IF+LqxEREakYFIDKuDmnur96qPtLRESk2CgAlWFHM3NZkngYgG4NFYBERESKiwJQGTZv80EcToN6kQHEhvpbXY6IiEiFoQBUhs3R4ociIiIlQgGojDqRk8/C7WkA9GhUzeJqREREKhYFoDJq/pZUcvOdxIX6c2VEZavLERERqVAUgMqogr2/ujWMxGazWVyNiIhIxaIAVAZl5zmYvyUV0PR3ERGRkqAAVAb9vj2NrFwH1YJ8uKp6kNXliIiIVDgKQGXQ7A3q/hIRESlJCkBlTJ7DybzN5vYXmv4uIiJSMhSAyphliUdIP5lHiL8XrWKDrS5HRESkQlIAKmNmbTgAmDu/e9jV/SUiIlISFIDKEIfTYM5Gs/tLe3+JiIiUHAWgMmRN0lHSTuQQ4FOJtrVDrS5HRESkwlIAKkMKZn91rh+BVyX9akREREqKPmXLCMMwmPWX6e8iIiJSchSAyoiN+zNIPnYSH087Ha8Ms7ocERGRCq1MBKA333yT2NhYfHx8iI+PZ/ny5Re8fvLkydStWxdfX19iYmJ47LHHyM7OPue1L774IjabjUcffbQEKi8+Bd1f114Zjq+Xh8XViIiIVGyWB6CZM2cycuRIxo8fz+rVq2nSpAndunUjNTX1nNfPmDGDUaNGMX78eDZv3sz777/PzJkzefLJJ8+6dsWKFbz77rtcddVVJf02LlvB5qc9Gqv7S0REpKRZHoAmTZrEsGHDGDp0KA0aNOCdd97Bz8+PDz744JzXL168mHbt2jFgwABiY2Pp2rUr/fv3P6vV6MSJEwwcOJD33nuPqlWrlsZbuWQ7Uo+zI/UEnh42OtULt7ocERGRCs/SAJSbm8uqVavo3Lmz65zdbqdz584sWbLknM9p27Ytq1atcgWexMREfv75Z3r27FnouhEjRnDDDTcUuvf55OTkkJGRUehRmgq6v9pdEUqgj2epvraIiIg7qmTli6elpeFwOIiIiCh0PiIigi1btpzzOQMGDCAtLY327dtjGAb5+fncd999hbrAPvvsM1avXs2KFSsuqo6JEyfyzDPPXPobuUwF3V/dNftLRESkVFjeBVZUv/32GxMmTOCtt95i9erVfP311/z0008899xzAOzdu5dHHnmE6dOn4+Pjc1H3HD16NOnp6a7H3r17S/ItFLL3SBYbkjOw26BLg4i/f4KIiIhcNktbgEJDQ/Hw8ODgwYOFzh88eJDIyHO3hjz11FPceeed3HPPPQA0btyYzMxMhg8fzpgxY1i1ahWpqak0b97c9RyHw8HChQuZMmUKOTk5eHgUnmXl7e2Nt7d3Mb+7izPnVOtP67hgQipbU4OIiIi7sbQFyMvLixYtWpCQkOA653Q6SUhIoE2bNud8TlZWFnZ74bILAo1hGFx//fWsX7+etWvXuh4tW7Zk4MCBrF279qzwY7WC8T/q/hIRESk9lrYAAYwcOZLBgwfTsmVLWrduzeTJk8nMzGTo0KEADBo0iOjoaCZOnAhAr169mDRpEs2aNSM+Pp4dO3bw1FNP0atXLzw8PAgICKBRo0aFXsPf35+QkJCzzlstNSObVUlHAejWSAFIRESktFgegG677TYOHTrEuHHjSElJoWnTpsyePds1MDopKalQi8/YsWOx2WyMHTuW5ORkwsLC6NWrFy+88IJVb+GSzdl0EMOApjFVqBbka3U5IiIibsNmGIZhdRFlTUZGBkFBQaSnpxMYGFhir3PHf5exaEcao3rU476OtUvsdURERNxBUT6/y90ssIriWFYuSxIPA9r8VEREpLQpAFlk3uZUHE6DepEBxIX6W12OiIiIW1EAssjsDQcA6K7BzyIiIqVOAcgCJ3LyWbg9DVAAEhERsYICkAV+25pKbr6T2BA/6kYEWF2OiIiI21EAskDB4ofdGkVis9ksrkZERMT9KACVsuw8B/O3pALQo1E1i6sRERFxTwpApWzR9jQycx1UC/Lhquggq8sRERFxSwpApWz2qc1PuzWMxG5X95eIiIgVFIBKUZ7DybzNBwEtfigiImIlBaBStCzxCMey8gjx96J1XLDV5YiIiLgtBaBSlJKRTaBPJbo0iMBD3V8iIiKWsXw3eHdyS4vq3NQkisycfKtLERERcWsKQKXMq5Idr0peVpchIiLi1tQFJiIiIm5HAUhERETcjgKQiIiIuB0FIBEREXE7CkAiIiLidhSARERExO0oAImIiIjbUQASERERt6MAJCIiIm5HAUhERETcjgKQiIiIuB0FIBEREXE7CkAiIiLidrQb/DkYhgFARkaGxZWIiIjIxSr43C74HL8QBaBzOH78OAAxMTEWVyIiIiJFdfz4cYKCgi54jc24mJjkZpxOJ/v37ycgIACbzVas987IyCAmJoa9e/cSGBhYrPeWotPvo2zR76Ns0e+j7NHv5MIMw+D48eNERUVht194lI9agM7BbrdTvXr1En2NwMBA/cdbhuj3Ubbo91G26PdR9uh3cn5/1/JTQIOgRURExO0oAImIiIjbUQAqZd7e3owfPx5vb2+rSxH0+yhr9PsoW/T7KHv0Oyk+GgQtIiIibkctQCIiIuJ2FIBERETE7SgAiYiIiNtRABIRERG3owBUit58801iY2Px8fEhPj6e5cuXW12S25o4cSKtWrUiICCA8PBwevfuzdatW60uS4AXX3wRm83Go48+anUpbi05OZk77riDkJAQfH19ady4MStXrrS6LLfkcDh46qmniIuLw9fXl9q1a/Pcc89d1H5Xcn4KQKVk5syZjBw5kvHjx7N69WqaNGlCt27dSE1Ntbo0t7RgwQJGjBjB0qVLmTt3Lnl5eXTt2pXMzEyrS3NrK1as4N133+Wqq66yuhS3dvToUdq1a4enpyezZs1i06ZN/Pvf/6Zq1apWl+aWXnrpJd5++22mTJnC5s2beemll3j55Zd54403rC6tXNM0+FISHx9Pq1atmDJlCmDuNxYTE8NDDz3EqFGjLK5ODh06RHh4OAsWLKBDhw5Wl+OWTpw4QfPmzXnrrbd4/vnnadq0KZMnT7a6LLc0atQo/vjjD37//XerSxHgxhtvJCIigvfff991rm/fvvj6+vLJJ59YWFn5phagUpCbm8uqVavo3Lmz65zdbqdz584sWbLEwsqkQHp6OgDBwcEWV+K+RowYwQ033FDo/xOxxvfff0/Lli259dZbCQ8Pp1mzZrz33ntWl+W22rZtS0JCAtu2bQNg3bp1LFq0iB49elhcWfmmzVBLQVpaGg6Hg4iIiELnIyIi2LJli0VVSQGn08mjjz5Ku3btaNSokdXluKXPPvuM1atXs2LFCqtLESAxMZG3336bkSNH8uSTT7JixQoefvhhvLy8GDx4sNXluZ1Ro0aRkZFBvXr18PDwwOFw8MILLzBw4ECrSyvXFIDE7Y0YMYINGzawaNEiq0txS3v37uWRRx5h7ty5+Pj4WF2OYP6joGXLlkyYMAGAZs2asWHDBt555x0FIAt8/vnnTJ8+nRkzZtCwYUPWrl3Lo48+SlRUlH4fl0EBqBSEhobi4eHBwYMHC50/ePAgkZGRFlUlAA8++CA//vgjCxcupHr16laX45ZWrVpFamoqzZs3d51zOBwsXLiQKVOmkJOTg4eHh4UVup9q1arRoEGDQufq16/PV199ZVFF7u2f//wno0aN4vbbbwegcePG7Nmzh4kTJyoAXQaNASoFXl5etGjRgoSEBNc5p9NJQkICbdq0sbAy92UYBg8++CDffPMNv/76K3FxcVaX5Lauv/561q9fz9q1a12Pli1bMnDgQNauXavwY4F27dqdtSzEtm3bqFmzpkUVubesrCzs9sIf1x4eHjidTosqqhjUAlRKRo4cyeDBg2nZsiWtW7dm8uTJZGZmMnToUKtLc0sjRoxgxowZfPfddwQEBJCSkgJAUFAQvr6+FlfnXgICAs4ae+Xv709ISIjGZFnkscceo23btkyYMIF+/fqxfPlypk6dytSpU60uzS316tWLF154gRo1atCwYUPWrFnDpEmTuOuuu6wurVzTNPhSNGXKFF555RVSUlJo2rQpr7/+OvHx8VaX5ZZsNts5z0+bNo0hQ4aUbjFylmuvvVbT4C32448/Mnr0aLZv305cXBwjR45k2LBhVpfllo4fP85TTz3FN998Q2pqKlFRUfTv359x48bh5eVldXnllgKQiIiIuB2NARIRERG3owAkIiIibkcBSERERNyOApCIiIi4HQUgERERcTsKQCIiIuJ2FIBERETE7SgAiYhcBJvNxrfffmt1GSJSTBSARKTMGzJkCDab7axH9+7drS5NRMop7QUmIuVC9+7dmTZtWqFz3t7eFlUjIuWdWoBEpFzw9vYmMjKy0KNq1aqA2T319ttv06NHD3x9falVqxZffvlloeevX7+e6667Dl9fX0JCQhg+fDgnTpwodM0HH3xAw4YN8fb2plq1ajz44IOFvp+WlkafPn3w8/OjTp06fP/99yX7pkWkxCgAiUiF8NRTT9G3b1/WrVvHwIEDuf3229m8eTMAmZmZdOvWjapVq7JixQq++OIL5s2bVyjgvP3224wYMYLhw4ezfv16vv/+e6644opCr/HMM8/Qr18//vzzT3r27MnAgQM5cuRIqb5PESkmhohIGTd48GDDw8PD8Pf3L/R44YUXDMMwDMC47777Cj0nPj7euP/++w3DMIypU6caVatWNU6cOOH6/k8//WTY7XYjJSXFMAzDiIqKMsaMGXPeGgBj7Nixrq9PnDhhAMasWbOK7X2KSOnRGCARKRc6derE22+/XehccHCw67hNmzaFvtemTRvWrl0LwObNm2nSpAn+/v6u77dr1w6n08nWrVux2Wzs37+f66+//oI1XHXVVa5jf39/AgMDSU1NvdS3JCIWUgASkXLB39//rC6p4uLr63tR13l6ehb62maz4XQ6S6IkESlhGgMkIhXC0qVLz/q6fv36ANSvX59169aRmZnp+v4ff/yB3W6nbt26BAQEEBsbS0JCQqnWLCLWUQuQiJQLOTk5pKSkFDpXqVIlQkNDAfjiiy9o2bIl7du3Z/r06Sxfvpz3338fgIEDBzJ+/HgGDx7M008/zaFDh3jooYe48847iYiIAODpp5/mvvvuIzw8nB49enD8+HH++OMPHnroodJ9oyJSKhSARKRcmD17NtWqVSt0rm7dumzZsgUwZ2h99tlnPPDAA1SrVo1PP/2UBg0aAODn58ecOXN45JFHaNWqFX5+fvTt25dJkya57jV48GCys7N57bXXeOKJJwgNDeWWW24pvTcoIqXKZhiGYXURIiKXw2az8c0339C7d2+rSxGRckJjgERERMTtKACJiIiI29EYIBEp99STLyJFpRYgERERcTsKQCIiIuJ2FIBERETE7SgAiYiIiNtRABIRERG3owAkIiIibkcBSERERNyOApCIiIi4HQUgERERcTv/DyxEv3ymrqhxAAAAAElFTkSuQmCC\n"
          },
          "metadata": {}
        },
        {
          "output_type": "display_data",
          "data": {
            "text/plain": [
              "<Figure size 640x480 with 1 Axes>"
            ],
            "image/png": "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\n"
          },
          "metadata": {}
        }
      ]
    },
    {
      "cell_type": "markdown",
      "source": [
        "#Step-7  Model Evaluation\n"
      ],
      "metadata": {
        "id": "IpIzbgJf7iu6"
      }
    },
    {
      "cell_type": "code",
      "source": [
        "score = model.evaluate(X_test, y_test, verbose=0)\n",
        "print('Test loss:', score[0])\n",
        "print('Test accuracy:', score[1])"
      ],
      "metadata": {
        "colab": {
          "base_uri": "https://localhost:8080/"
        },
        "id": "OdU6RYAT7u1J",
        "outputId": "24643941-f4d3-44cb-e8c1-a961b5dfc46e"
      },
      "execution_count": 46,
      "outputs": [
        {
          "output_type": "stream",
          "name": "stdout",
          "text": [
            "Test loss: 0.2748129665851593\n",
            "Test accuracy: 0.9046000242233276\n"
          ]
        }
      ]
    },
    {
      "cell_type": "markdown",
      "source": [
        "#Step-8 Confusion Matrix"
      ],
      "metadata": {
        "id": "qGBCtbW98VFx"
      }
    },
    {
      "cell_type": "code",
      "source": [
        "y_prob = model.predict(X_test)\n",
        "from sklearn.metrics import confusion_matrix\n",
        "y_pred=np.argmax(y_prob, axis=1)\n",
        "#print(y_pred)\n",
        "#y_pred.shape\n",
        "y_temp=y_test>0.5\n",
        "y_temp=np.argmax(y_temp,axis=1)\n",
        "cm = confusion_matrix(y_true = y_temp, y_pred=y_pred)\n",
        "print(cm)"
      ],
      "metadata": {
        "colab": {
          "base_uri": "https://localhost:8080/"
        },
        "id": "QZqECxM077Ap",
        "outputId": "e1cd2b2a-6255-4101-fe0c-bea55b8fb44a"
      },
      "execution_count": 47,
      "outputs": [
        {
          "output_type": "stream",
          "name": "stdout",
          "text": [
            "313/313 [==============================] - 2s 6ms/step\n",
            "[[854   1  13  20   2   0  94   0  16   0]\n",
            " [  3 976   0  17   2   0   0   0   2   0]\n",
            " [ 17   0 802   8  72   0  91   0  10   0]\n",
            " [ 14   3  11 910  32   0  25   0   5   0]\n",
            " [  1   1  17  23 878   0  74   0   6   0]\n",
            " [  0   0   0   0   0 981   0  14   0   5]\n",
            " [114   1  37  20  62   0 743   0  23   0]\n",
            " [  0   0   0   0   0   8   0 985   0   7]\n",
            " [  0   0   0   3   3   1   1   1 991   0]\n",
            " [  0   0   0   0   0   8   0  65   1 926]]\n"
          ]
        }
      ]
    },
    {
      "cell_type": "code",
      "source": [
        "from sklearn.metrics import classification_report\n",
        "labelNames = [\"top\", \"trouser\", \"pullover\", \"dress\", \"coat\",\n",
        "\t\"sandal\", \"shirt\", \"sneaker\", \"bag\", \"ankle boot\"]\n",
        "pred=model.predict(X_test)\n",
        "print(classification_report(y_test.argmax(axis=1), pred.argmax(axis=1),\n",
        "\ttarget_names=labelNames))"
      ],
      "metadata": {
        "colab": {
          "base_uri": "https://localhost:8080/"
        },
        "id": "uvIbyK-p8ACn",
        "outputId": "4a8ce87e-8f75-4231-ab6a-194bc8922134"
      },
      "execution_count": 48,
      "outputs": [
        {
          "output_type": "stream",
          "name": "stdout",
          "text": [
            "313/313 [==============================] - 1s 2ms/step\n",
            "              precision    recall  f1-score   support\n",
            "\n",
            "         top       0.85      0.85      0.85      1000\n",
            "     trouser       0.99      0.98      0.98      1000\n",
            "    pullover       0.91      0.80      0.85      1000\n",
            "       dress       0.91      0.91      0.91      1000\n",
            "        coat       0.84      0.88      0.86      1000\n",
            "      sandal       0.98      0.98      0.98      1000\n",
            "       shirt       0.72      0.74      0.73      1000\n",
            "     sneaker       0.92      0.98      0.95      1000\n",
            "         bag       0.94      0.99      0.96      1000\n",
            "  ankle boot       0.99      0.93      0.96      1000\n",
            "\n",
            "    accuracy                           0.90     10000\n",
            "   macro avg       0.91      0.90      0.90     10000\n",
            "weighted avg       0.91      0.90      0.90     10000\n",
            "\n"
          ]
        }
      ]
    }
  ]
}

#complete notebook available at https://colab.research.google.com/drive/1CXOi5tm59LN-hdhmh0eL1rkYViBSFMlf#scrollTo=VSzMh8LqD1gC
